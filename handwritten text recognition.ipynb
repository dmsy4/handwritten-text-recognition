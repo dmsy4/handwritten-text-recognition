{
  "nbformat": 4,
  "nbformat_minor": 0,
  "metadata": {
    "colab": {
      "name": "handwritten text recognition",
      "provenance": [],
      "collapsed_sections": []
    },
    "kernelspec": {
      "name": "python3",
      "display_name": "Python 3"
    },
    "accelerator": "GPU"
  },
  "cells": [
    {
      "cell_type": "markdown",
      "metadata": {
        "id": "x_QPzg9fgKit"
      },
      "source": [
        "# Import & download"
      ]
    },
    {
      "cell_type": "code",
      "metadata": {
        "id": "Oq_Kew7BpLg6"
      },
      "source": [
        "import numpy as np\n",
        "import matplotlib.pyplot as plt\n",
        "import cv2\n",
        "import pandas as pd\n",
        "import string\n",
        "import os"
      ],
      "execution_count": 4,
      "outputs": []
    },
    {
      "cell_type": "code",
      "metadata": {
        "id": "Pi-PA14AhdK-",
        "colab": {
          "base_uri": "https://localhost:8080/"
        },
        "outputId": "9a65d2e7-dd28-4a77-ef1b-9c88ee44201a"
      },
      "source": [
        "# клонируем репозиторий с моделью\n",
        "!git clone https://github.com/clovaai/deep-text-recognition-benchmark"
      ],
      "execution_count": 2,
      "outputs": [
        {
          "output_type": "stream",
          "name": "stdout",
          "text": [
            "Cloning into 'deep-text-recognition-benchmark'...\n",
            "remote: Enumerating objects: 495, done.\u001b[K\n",
            "remote: Total 495 (delta 0), reused 0 (delta 0), pack-reused 495\u001b[K\n",
            "Receiving objects: 100% (495/495), 3.07 MiB | 15.32 MiB/s, done.\n",
            "Resolving deltas: 100% (301/301), done.\n"
          ]
        }
      ]
    },
    {
      "cell_type": "code",
      "metadata": {
        "id": "ArFBo8ou3j2I",
        "colab": {
          "base_uri": "https://localhost:8080/"
        },
        "outputId": "bb77212d-c784-49e1-d61e-7024e8a473a1"
      },
      "source": [
        "!pip install pip install python-Levenshtein\n",
        "!pip install jiwer"
      ],
      "execution_count": 3,
      "outputs": [
        {
          "output_type": "stream",
          "name": "stdout",
          "text": [
            "Requirement already satisfied: pip in /usr/local/lib/python3.7/dist-packages (21.1.3)\n",
            "Collecting install\n",
            "  Downloading install-1.3.5-py3-none-any.whl (3.2 kB)\n",
            "Collecting python-Levenshtein\n",
            "  Downloading python-Levenshtein-0.12.2.tar.gz (50 kB)\n",
            "\u001b[K     |████████████████████████████████| 50 kB 3.0 MB/s \n",
            "\u001b[?25hRequirement already satisfied: setuptools in /usr/local/lib/python3.7/dist-packages (from python-Levenshtein) (57.4.0)\n",
            "Building wheels for collected packages: python-Levenshtein\n",
            "  Building wheel for python-Levenshtein (setup.py) ... \u001b[?25l\u001b[?25hdone\n",
            "  Created wheel for python-Levenshtein: filename=python_Levenshtein-0.12.2-cp37-cp37m-linux_x86_64.whl size=149865 sha256=19e64810f0477282c24bd61dbbe8441e9b324fd8656e7f701c33ec245086859a\n",
            "  Stored in directory: /root/.cache/pip/wheels/05/5f/ca/7c4367734892581bb5ff896f15027a932c551080b2abd3e00d\n",
            "Successfully built python-Levenshtein\n",
            "Installing collected packages: python-Levenshtein, install\n",
            "Successfully installed install-1.3.5 python-Levenshtein-0.12.2\n"
          ]
        }
      ]
    },
    {
      "cell_type": "code",
      "metadata": {
        "id": "Kxcf-syinJZA"
      },
      "source": [
        "import Levenshtein as leven\n",
        "import jiwer"
      ],
      "execution_count": 4,
      "outputs": []
    },
    {
      "cell_type": "code",
      "metadata": {
        "colab": {
          "base_uri": "https://localhost:8080/"
        },
        "id": "EBk5rGVwTMo_",
        "outputId": "37c745f3-c392-429d-dcb8-51b13c31765c"
      },
      "source": [
        "!pip install pytesseract\n",
        "!sudo apt install tesseract-ocr"
      ],
      "execution_count": 1,
      "outputs": [
        {
          "output_type": "stream",
          "name": "stdout",
          "text": [
            "Collecting pytesseract\n",
            "  Downloading pytesseract-0.3.8.tar.gz (14 kB)\n",
            "Requirement already satisfied: Pillow in /usr/local/lib/python3.7/dist-packages (from pytesseract) (7.1.2)\n",
            "Building wheels for collected packages: pytesseract\n",
            "  Building wheel for pytesseract (setup.py) ... \u001b[?25l\u001b[?25hdone\n",
            "  Created wheel for pytesseract: filename=pytesseract-0.3.8-py2.py3-none-any.whl size=14072 sha256=01e8171209f810539beb6322fced4a26822a6f3bc0a196aae5ec001df8e6db1f\n",
            "  Stored in directory: /root/.cache/pip/wheels/a4/89/b9/3f11250225d0f90e5454fcc30fd1b7208db226850715aa9ace\n",
            "Successfully built pytesseract\n",
            "Installing collected packages: pytesseract\n",
            "Successfully installed pytesseract-0.3.8\n",
            "Reading package lists... Done\n",
            "Building dependency tree       \n",
            "Reading state information... Done\n",
            "The following additional packages will be installed:\n",
            "  tesseract-ocr-eng tesseract-ocr-osd\n",
            "The following NEW packages will be installed:\n",
            "  tesseract-ocr tesseract-ocr-eng tesseract-ocr-osd\n",
            "0 upgraded, 3 newly installed, 0 to remove and 37 not upgraded.\n",
            "Need to get 4,795 kB of archives.\n",
            "After this operation, 15.8 MB of additional disk space will be used.\n",
            "Get:1 http://archive.ubuntu.com/ubuntu bionic/universe amd64 tesseract-ocr-eng all 4.00~git24-0e00fe6-1.2 [1,588 kB]\n",
            "Get:2 http://archive.ubuntu.com/ubuntu bionic/universe amd64 tesseract-ocr-osd all 4.00~git24-0e00fe6-1.2 [2,989 kB]\n",
            "Get:3 http://archive.ubuntu.com/ubuntu bionic/universe amd64 tesseract-ocr amd64 4.00~git2288-10f4998a-2 [218 kB]\n",
            "Fetched 4,795 kB in 1s (3,678 kB/s)\n",
            "debconf: unable to initialize frontend: Dialog\n",
            "debconf: (No usable dialog-like program is installed, so the dialog based frontend cannot be used. at /usr/share/perl5/Debconf/FrontEnd/Dialog.pm line 76, <> line 3.)\n",
            "debconf: falling back to frontend: Readline\n",
            "debconf: unable to initialize frontend: Readline\n",
            "debconf: (This frontend requires a controlling tty.)\n",
            "debconf: falling back to frontend: Teletype\n",
            "dpkg-preconfigure: unable to re-open stdin: \n",
            "Selecting previously unselected package tesseract-ocr-eng.\n",
            "(Reading database ... 155222 files and directories currently installed.)\n",
            "Preparing to unpack .../tesseract-ocr-eng_4.00~git24-0e00fe6-1.2_all.deb ...\n",
            "Unpacking tesseract-ocr-eng (4.00~git24-0e00fe6-1.2) ...\n",
            "Selecting previously unselected package tesseract-ocr-osd.\n",
            "Preparing to unpack .../tesseract-ocr-osd_4.00~git24-0e00fe6-1.2_all.deb ...\n",
            "Unpacking tesseract-ocr-osd (4.00~git24-0e00fe6-1.2) ...\n",
            "Selecting previously unselected package tesseract-ocr.\n",
            "Preparing to unpack .../tesseract-ocr_4.00~git2288-10f4998a-2_amd64.deb ...\n",
            "Unpacking tesseract-ocr (4.00~git2288-10f4998a-2) ...\n",
            "Setting up tesseract-ocr-osd (4.00~git24-0e00fe6-1.2) ...\n",
            "Setting up tesseract-ocr-eng (4.00~git24-0e00fe6-1.2) ...\n",
            "Setting up tesseract-ocr (4.00~git2288-10f4998a-2) ...\n",
            "Processing triggers for man-db (2.8.3-2ubuntu0.1) ...\n"
          ]
        }
      ]
    },
    {
      "cell_type": "code",
      "metadata": {
        "id": "5V9J8FCHTVa-"
      },
      "source": [
        "import pytesseract"
      ],
      "execution_count": 8,
      "outputs": []
    },
    {
      "cell_type": "markdown",
      "metadata": {
        "id": "jX-ucvimlaFZ"
      },
      "source": [
        "Next, download large model files from Google Drive, using hack: https://stackoverflow.com/questions/20665881/direct-download-from-google-drive-using-google-drive-api/32742700#32742700"
      ]
    },
    {
      "cell_type": "code",
      "metadata": {
        "id": "9eEhhPBshkjr",
        "colab": {
          "base_uri": "https://localhost:8080/"
        },
        "outputId": "0fefcf85-a95e-43ec-f8b8-77bbc55c30f9"
      },
      "source": [
        "models = {\n",
        "    'None-ResNet-None-CTC.pth': 'https://drive.google.com/open?id=1FocnxQzFBIjDT2F9BkNUiLdo1cC3eaO0',\n",
        "    'None-VGG-BiLSTM-CTC.pth': 'https://drive.google.com/open?id=1GGC2IRYEMQviZhqQpbtpeTgHO_IXWetG',\n",
        "    'None-VGG-None-CTC.pth': 'https://drive.google.com/open?id=1FS3aZevvLiGF1PFBm5SkwvVcgI6hJWL9',\n",
        "    'TPS-ResNet-BiLSTM-Attn-case-sensitive.pth': 'https://drive.google.com/open?id=1ajONZOgiG9pEYsQ-eBmgkVbMDuHgPCaY',\n",
        "    'TPS-ResNet-BiLSTM-Attn.pth': 'https://drive.google.com/open?id=1b59rXuGGmKne1AuHnkgDzoYgKeETNMv9',\n",
        "    'TPS-ResNet-BiLSTM-CTC.pth': 'https://drive.google.com/open?id=1FocnxQzFBIjDT2F9BkNUiLdo1cC3eaO0',\n",
        "}\n",
        "\n",
        "for k, v in models.items():\n",
        "  doc_id = v[v.find('=')+1:]\n",
        "  !curl -c /tmp/cookies \"https://drive.google.com/uc?export=download&id=$doc_id\" > /tmp/intermezzo.html\n",
        "  !curl -L -b /tmp/cookies \"https://drive.google.com$(cat /tmp/intermezzo.html | grep -Po 'uc-download-link\" [^>]* href=\"\\K[^\"]*' | sed 's/\\&amp;/\\&/g')\" > $k\n",
        "\n",
        "!ls -al *.pth"
      ],
      "execution_count": 9,
      "outputs": [
        {
          "output_type": "stream",
          "name": "stdout",
          "text": [
            "  % Total    % Received % Xferd  Average Speed   Time    Time     Time  Current\n",
            "                                 Dload  Upload   Total   Spent    Left  Speed\n",
            "100  3286    0  3286    0     0  15212      0 --:--:-- --:--:-- --:--:-- 15283\n",
            "  % Total    % Received % Xferd  Average Speed   Time    Time     Time  Current\n",
            "                                 Dload  Upload   Total   Spent    Left  Speed\n",
            "100   408    0   408    0     0   2358      0 --:--:-- --:--:-- --:--:--  2358\n",
            "  0     0    0     0    0     0      0      0 --:--:-- --:--:-- --:--:--     0\n",
            "  0     0    0     0    0     0      0      0 --:--:-- --:--:-- --:--:--     0\n",
            "100  186M  100  186M    0     0  73.4M      0  0:00:02  0:00:02 --:--:--  102M\n",
            "  % Total    % Received % Xferd  Average Speed   Time    Time     Time  Current\n",
            "                                 Dload  Upload   Total   Spent    Left  Speed\n",
            "100   388    0   388    0     0    279      0 --:--:--  0:00:01 --:--:--   279\n",
            "  % Total    % Received % Xferd  Average Speed   Time    Time     Time  Current\n",
            "                                 Dload  Upload   Total   Spent    Left  Speed\n",
            "  0     0    0     0    0     0      0      0 --:--:-- --:--:-- --:--:--     0\n",
            "100 91398    0 91398    0     0   883k      0 --:--:-- --:--:-- --:--:--  883k\n",
            "  % Total    % Received % Xferd  Average Speed   Time    Time     Time  Current\n",
            "                                 Dload  Upload   Total   Spent    Left  Speed\n",
            "100   388    0   388    0     0    294      0 --:--:--  0:00:01 --:--:--   294\n",
            "  % Total    % Received % Xferd  Average Speed   Time    Time     Time  Current\n",
            "                                 Dload  Upload   Total   Spent    Left  Speed\n",
            "  0     0    0     0    0     0      0      0 --:--:-- --:--:-- --:--:--     0\n",
            "100 90268    0 90268    0     0   839k      0 --:--:-- --:--:-- --:--:--  839k\n",
            "  % Total    % Received % Xferd  Average Speed   Time    Time     Time  Current\n",
            "                                 Dload  Upload   Total   Spent    Left  Speed\n",
            "100  3302    0  3302    0     0  17197      0 --:--:-- --:--:-- --:--:-- 17197\n",
            "  % Total    % Received % Xferd  Average Speed   Time    Time     Time  Current\n",
            "                                 Dload  Upload   Total   Spent    Left  Speed\n",
            "100   408    0   408    0     0   2000      0 --:--:-- --:--:-- --:--:--  2000\n",
            "  0     0    0     0    0     0      0      0 --:--:-- --:--:-- --:--:--     0\n",
            "  0     0    0     0    0     0      0      0 --:--:-- --:--:-- --:--:--     0\n",
            "100  189M  100  189M    0     0   106M      0  0:00:01  0:00:01 --:--:--  143M\n",
            "  % Total    % Received % Xferd  Average Speed   Time    Time     Time  Current\n",
            "                                 Dload  Upload   Total   Spent    Left  Speed\n",
            "100  3287    0  3287    0     0  13582      0 --:--:-- --:--:-- --:--:-- 13582\n",
            "  % Total    % Received % Xferd  Average Speed   Time    Time     Time  Current\n",
            "                                 Dload  Upload   Total   Spent    Left  Speed\n",
            "100   408    0   408    0     0   1863      0 --:--:-- --:--:-- --:--:--  1854\n",
            "  0     0    0     0    0     0      0      0 --:--:-- --:--:-- --:--:--     0\n",
            "  0     0    0     0    0     0      0      0 --:--:-- --:--:-- --:--:--     0\n",
            "100  189M  100  189M    0     0  79.4M      0  0:00:02  0:00:02 --:--:--  131M\n",
            "  % Total    % Received % Xferd  Average Speed   Time    Time     Time  Current\n",
            "                                 Dload  Upload   Total   Spent    Left  Speed\n",
            "100  3286    0  3286    0     0  16430      0 --:--:-- --:--:-- --:--:-- 16430\n",
            "  % Total    % Received % Xferd  Average Speed   Time    Time     Time  Current\n",
            "                                 Dload  Upload   Total   Spent    Left  Speed\n",
            "100   408    0   408    0     0   2358      0 --:--:-- --:--:-- --:--:--  2358\n",
            "  0     0    0     0    0     0      0      0 --:--:-- --:--:-- --:--:--     0\n",
            "  0     0    0     0    0     0      0      0 --:--:-- --:--:-- --:--:--     0\n",
            "100  186M  100  186M    0     0  89.2M      0  0:00:02  0:00:02 --:--:--  111M\n",
            "-rw-r--r-- 1 root root 195888589 Dec  5 15:39 None-ResNet-None-CTC.pth\n",
            "-rw-r--r-- 1 root root     91398 Dec  5 15:39 None-VGG-BiLSTM-CTC.pth\n",
            "-rw-r--r-- 1 root root     90268 Dec  5 15:39 None-VGG-None-CTC.pth\n",
            "-rw-r--r-- 1 root root 198975977 Dec  5 15:39 TPS-ResNet-BiLSTM-Attn-case-sensitive.pth\n",
            "-rw-r--r-- 1 root root 198678680 Dec  5 15:39 TPS-ResNet-BiLSTM-Attn.pth\n",
            "-rw-r--r-- 1 root root 195888589 Dec  5 15:39 TPS-ResNet-BiLSTM-CTC.pth\n"
          ]
        }
      ]
    },
    {
      "cell_type": "code",
      "metadata": {
        "colab": {
          "base_uri": "https://localhost:8080/"
        },
        "id": "1lwnrZ8TOTme",
        "outputId": "6d8a8f63-12e0-4a02-83d7-676c78db4c0d"
      },
      "source": [
        "!gdown --id 1rkPjMiluQjF3q4bRah5GpnG46VI2y40p # download images of words"
      ],
      "execution_count": 15,
      "outputs": [
        {
          "output_type": "stream",
          "name": "stdout",
          "text": [
            "Downloading...\n",
            "From: https://drive.google.com/uc?id=1rkPjMiluQjF3q4bRah5GpnG46VI2y40p\n",
            "To: /content/words.tgz\n",
            "100% 821M/821M [00:04<00:00, 169MB/s]\n"
          ]
        }
      ]
    },
    {
      "cell_type": "code",
      "metadata": {
        "id": "ndgB7VgkOVZv"
      },
      "source": [
        "os.makedirs('words/')\n",
        "!tar -xzf \"/content/words.tgz\" -C \"/content/words\"   #[run this cell to extract tar.gz files]"
      ],
      "execution_count": 16,
      "outputs": []
    },
    {
      "cell_type": "code",
      "metadata": {
        "colab": {
          "base_uri": "https://localhost:8080/"
        },
        "id": "vJY6PP5APk4U",
        "outputId": "0cb39566-225c-43a3-b42d-237392e6028b"
      },
      "source": [
        "!gdown --id 1D9P1Bx1nXriKjAHOO-z3PVLu16fM6SO1 # download xml labelings"
      ],
      "execution_count": 17,
      "outputs": [
        {
          "output_type": "stream",
          "name": "stdout",
          "text": [
            "Downloading...\n",
            "From: https://drive.google.com/uc?id=1D9P1Bx1nXriKjAHOO-z3PVLu16fM6SO1\n",
            "To: /content/xml.tgz\n",
            "100% 6.05M/6.05M [00:00<00:00, 36.9MB/s]\n"
          ]
        }
      ]
    },
    {
      "cell_type": "code",
      "metadata": {
        "id": "J6a_f-KJPvSA"
      },
      "source": [
        "os.makedirs('xml/')\n",
        "!tar -xzf \"/content/xml.tgz\" -C \"/content/xml/\"   "
      ],
      "execution_count": 18,
      "outputs": []
    },
    {
      "cell_type": "markdown",
      "metadata": {
        "id": "Qji5eHc9gZYN"
      },
      "source": [
        "# Form IAM dataset"
      ]
    },
    {
      "cell_type": "code",
      "metadata": {
        "id": "lCOvLGxyPRKP"
      },
      "source": [
        "import xml.etree.ElementTree as ET\n",
        "import glob\n",
        "d = {'file': [], 'word': []}\n",
        "\n",
        "for xml_file in sorted(glob.glob('/content/xml/*')):\n",
        "    tree = ET.parse(xml_file)\n",
        "    root = tree.getroot()\n",
        "    for member in root.iter('word'):\n",
        "        line = member.attrib['id']\n",
        "        d['file'].append(member.attrib['id'] + '.png')\n",
        "        d['word'].append(member.attrib['text'])"
      ],
      "execution_count": 19,
      "outputs": []
    },
    {
      "cell_type": "code",
      "metadata": {
        "colab": {
          "base_uri": "https://localhost:8080/",
          "height": 206
        },
        "id": "Pdj30Iz6QPvW",
        "outputId": "6d83d900-e366-469a-9180-e1c7d48fb2c3"
      },
      "source": [
        "import re\n",
        "import string\n",
        "p = re.compile(\"[\" + re.escape(string.punctuation) + \"]\")\n",
        "\n",
        "words_df = pd.DataFrame(d)\n",
        "words_df = words_df[~words_df['word'].str.contains(p)]\n",
        "words_df['word'] = words_df['word'].str.lower()\n",
        "words_df.reset_index(drop=True, inplace=True)\n",
        "words_df.head()"
      ],
      "execution_count": 20,
      "outputs": [
        {
          "output_type": "execute_result",
          "data": {
            "text/html": [
              "<div>\n",
              "<style scoped>\n",
              "    .dataframe tbody tr th:only-of-type {\n",
              "        vertical-align: middle;\n",
              "    }\n",
              "\n",
              "    .dataframe tbody tr th {\n",
              "        vertical-align: top;\n",
              "    }\n",
              "\n",
              "    .dataframe thead th {\n",
              "        text-align: right;\n",
              "    }\n",
              "</style>\n",
              "<table border=\"1\" class=\"dataframe\">\n",
              "  <thead>\n",
              "    <tr style=\"text-align: right;\">\n",
              "      <th></th>\n",
              "      <th>file</th>\n",
              "      <th>word</th>\n",
              "    </tr>\n",
              "  </thead>\n",
              "  <tbody>\n",
              "    <tr>\n",
              "      <th>0</th>\n",
              "      <td>a01-000u-00-00.png</td>\n",
              "      <td>a</td>\n",
              "    </tr>\n",
              "    <tr>\n",
              "      <th>1</th>\n",
              "      <td>a01-000u-00-01.png</td>\n",
              "      <td>move</td>\n",
              "    </tr>\n",
              "    <tr>\n",
              "      <th>2</th>\n",
              "      <td>a01-000u-00-02.png</td>\n",
              "      <td>to</td>\n",
              "    </tr>\n",
              "    <tr>\n",
              "      <th>3</th>\n",
              "      <td>a01-000u-00-03.png</td>\n",
              "      <td>stop</td>\n",
              "    </tr>\n",
              "    <tr>\n",
              "      <th>4</th>\n",
              "      <td>a01-000u-00-05.png</td>\n",
              "      <td>gaitskell</td>\n",
              "    </tr>\n",
              "  </tbody>\n",
              "</table>\n",
              "</div>"
            ],
            "text/plain": [
              "                 file       word\n",
              "0  a01-000u-00-00.png          a\n",
              "1  a01-000u-00-01.png       move\n",
              "2  a01-000u-00-02.png         to\n",
              "3  a01-000u-00-03.png       stop\n",
              "4  a01-000u-00-05.png  gaitskell"
            ]
          },
          "metadata": {},
          "execution_count": 20
        }
      ]
    },
    {
      "cell_type": "code",
      "metadata": {
        "id": "SOp9IoTzR6IA"
      },
      "source": [
        "# удалим \"битые\" файлы\n",
        "idx_to_drop = words_df[words_df['file'] == 'a01-117-05-02.png'].index\n",
        "words_df.drop(idx_to_drop, inplace=True)\n",
        "idx_to_drop = words_df[words_df['file'] == 'r06-022-03-05.png'].index\n",
        "words_df.drop(idx_to_drop, inplace=True)"
      ],
      "execution_count": 21,
      "outputs": []
    },
    {
      "cell_type": "code",
      "metadata": {
        "id": "Nq_8od7e_UBM"
      },
      "source": [
        "train_df = words_df.iloc[:78384]\n",
        "valid_df = words_df.iloc[78384:]"
      ],
      "execution_count": 22,
      "outputs": []
    },
    {
      "cell_type": "code",
      "metadata": {
        "id": "rg2EV56hBTKR"
      },
      "source": [
        "def preprocess_and_save(image_dir, save_dir, txt_line, txt_dir):\n",
        "    image = cv2.imread(image_dir)\n",
        "    try:\n",
        "        gray = cv2.cvtColor(image, cv2.COLOR_BGR2GRAY)\n",
        "        gray = cv2.GaussianBlur(gray, (3, 3), 5)\n",
        "        thresh = cv2.threshold(gray,0,255,cv2.THRESH_OTSU)[1]\n",
        "        rect = cv2.getStructuringElement(cv2.MORPH_RECT, (2, 2))\n",
        "        thresh = cv2.morphologyEx(thresh, cv2.MORPH_CLOSE, rect)\n",
        "    except Exception as e:\n",
        "        print(image_dir)\n",
        "\n",
        "\n",
        "    if not os.path.exists(os.path.dirname(save_dir)):\n",
        "        os.makedirs(os.path.dirname(save_dir))\n",
        "    with open(txt_dir, mode='a+') as f:\n",
        "        f.write(txt_line)\n",
        "    cv2.imwrite(save_dir, thresh)\n",
        "\n",
        "def preprocess_and_save_tesseract(image_dir, save_dir, txt_line, txt_dir):\n",
        "    image = cv2.imread(image_dir)\n",
        "    try:\n",
        "        gray = cv2.cvtColor(image, cv2.COLOR_BGR2GRAY)\n",
        "        gray = cv2.GaussianBlur(gray, (3, 3), 5)\n",
        "        thresh = cv2.threshold(gray,0,255,cv2.THRESH_OTSU)[1]\n",
        "        rect = cv2.getStructuringElement(cv2.MORPH_RECT, (2, 2))\n",
        "        thresh = cv2.morphologyEx(thresh, cv2.MORPH_CLOSE, rect)\n",
        "    except Exception as e:\n",
        "        print(image_dir)\n",
        "\n",
        "\n",
        "    if not os.path.exists(os.path.dirname(save_dir)):\n",
        "        os.makedirs(os.path.dirname(save_dir))\n",
        "    with open(txt_dir, mode='w') as f:\n",
        "        f.write(txt_line)\n",
        "    cv2.imwrite(save_dir, thresh)"
      ],
      "execution_count": 23,
      "outputs": []
    },
    {
      "cell_type": "code",
      "metadata": {
        "id": "yPpNgkzvApf5"
      },
      "source": [
        "import os\n",
        "\n",
        "# preprocess for train\n",
        "for (image_name, word) in zip(train_df['file'], train_df['word']):\n",
        "    split_line = image_name.split('-')\n",
        "    image_dir = '/content/words/' + split_line[0] + '/' + split_line[0] + '-' + split_line[1] + '/' + image_name\n",
        "    save_dir = '/content/train/train/' + image_name\n",
        "    txt_line = 'train/' + image_name + '\\t' + word + '\\n'\n",
        "    txt_dir = '/content/train/gt.txt'\n",
        "    preprocess_and_save(os.path.normpath(image_dir), os.path.normpath(save_dir), txt_line, txt_dir)\n",
        "\n",
        "# preprocess for valid\n",
        "for (image_name, word) in zip(valid_df['file'], valid_df['word']):\n",
        "    split_line = image_name.split('-')\n",
        "    image_dir = '/content/words/' + split_line[0] + '/' + split_line[0] + '-' + split_line[1] + '/' + image_name\n",
        "    save_dir = '/content/valid/valid/' + image_name\n",
        "    txt_line = 'valid/' + image_name + '\\t' + word + '\\n'\n",
        "    txt_dir = '/content/valid/gt.txt'\n",
        "    preprocess_and_save(os.path.normpath(image_dir), os.path.normpath(save_dir), txt_line, txt_dir)"
      ],
      "execution_count": 22,
      "outputs": []
    },
    {
      "cell_type": "markdown",
      "metadata": {
        "id": "loaR1DLcjo4E"
      },
      "source": [
        "# Train PyTorch model"
      ]
    },
    {
      "cell_type": "code",
      "metadata": {
        "id": "rLkAGeCqdr7Q"
      },
      "source": [
        "!pip3 install fire\n",
        "!python3 /content/deep-text-recognition-benchmark/create_lmdb_dataset.py --inputPath /content/train --gtFile /content/train/gt.txt --outputPath train_db/"
      ],
      "execution_count": null,
      "outputs": []
    },
    {
      "cell_type": "code",
      "metadata": {
        "id": "SDLHFpQ2AuDs"
      },
      "source": [
        "!python3 /content/deep-text-recognition-benchmark/create_lmdb_dataset.py --inputPath /content/valid --gtFile /content/valid/gt.txt --outputPath valid_db/"
      ],
      "execution_count": null,
      "outputs": []
    },
    {
      "cell_type": "code",
      "metadata": {
        "id": "l8fKIFZxSvc1"
      },
      "source": [
        "!CUDA_VISIBLE_DEVICES=0 python3 /content/deep-text-recognition-benchmark/train.py \\\n",
        "--train_data /content/train_db  --valid_data /content/valid_db \\\n",
        "--select_data / --batch_ratio 1 --FT \\\n",
        "--Transformation None --FeatureExtraction ResNet --SequenceModeling BiLSTM --Prediction CTC \\\n",
        "--workers 1 --saved_model /content/TPS-ResNet-BiLSTM-CTC.pth --num_iter 500 --valInterval 100"
      ],
      "execution_count": 125,
      "outputs": []
    },
    {
      "cell_type": "markdown",
      "metadata": {
        "id": "WHbTCt5-iWgM"
      },
      "source": [
        "# Get metrics PyTorch model\n"
      ]
    },
    {
      "cell_type": "code",
      "metadata": {
        "id": "y1kI5im6kQAk"
      },
      "source": [
        "output = !CUDA_VISIBLE_DEVICES=0 python3 /content/deep-text-recognition-benchmark/demo.py \\\n",
        "--Transformation None --FeatureExtraction ResNet --SequenceModeling BiLSTM --Prediction CTC \\\n",
        "--image_folder /content/valid/valid \\\n",
        "--saved_model /content/saved_models/None-ResNet-BiLSTM-CTC-Seed1111/best_accuracy.pth --workers 1"
      ],
      "execution_count": null,
      "outputs": []
    },
    {
      "cell_type": "code",
      "metadata": {
        "id": "qzzKTWURquqG"
      },
      "source": [
        "pred = []\n",
        "with open('/content/log_demo_result.txt') as f:\n",
        "    text = f.readlines()\n",
        "    for line in text:\n",
        "        line_split = line.split()\n",
        "        if line[0] != 'i' and line[0] != '-':\n",
        "            pred.append(line_split[1])"
      ],
      "execution_count": null,
      "outputs": []
    },
    {
      "cell_type": "code",
      "metadata": {
        "id": "c04W0Vr_lGLw"
      },
      "source": [
        "from jiwer import cer\n",
        "\n",
        "cer_avg = 0\n",
        "leven_dist = 0\n",
        "for true_word, pred_word in zip(valid_df['word'].tolist(), pred):\n",
        "    leven_dist += leven.distance(true_word, pred_word)\n",
        "    cer_avg += cer(true_word, pred_word)\n",
        "print('Levenshtein', leven_dist / len(pred))\n",
        "print('CER', cer_avg / len(pred))"
      ],
      "execution_count": null,
      "outputs": []
    },
    {
      "cell_type": "markdown",
      "metadata": {
        "id": "uhThDpICiZk8"
      },
      "source": [
        "# Tesseract"
      ]
    },
    {
      "cell_type": "code",
      "metadata": {
        "id": "GS31JMeDIuo7"
      },
      "source": [
        "import os\n",
        "\n",
        "# TESSERACT\n",
        "for (image_name, word) in zip(valid_df['file'], valid_df['word']):\n",
        "    split_line = image_name.split('-')\n",
        "    image_dir = '/content/words/' + split_line[0] + '/' + split_line[0] + '-' + split_line[1] + '/' + image_name\n",
        "    save_dir = '/content/valid/' + image_name\n",
        "    txt_line = word\n",
        "    txt_dir = '/content/valid/' + image_name[:-3] + 'gt.txt'\n",
        "    preprocess_and_save_tesseract(os.path.normpath(image_dir), os.path.normpath(save_dir), txt_line, txt_dir)"
      ],
      "execution_count": 21,
      "outputs": []
    },
    {
      "cell_type": "code",
      "metadata": {
        "id": "Vddcw_CjaS0c"
      },
      "source": [
        "import glob\n",
        "from jiwer import cer\n",
        "from nltk.metrics.distance import edit_distance\n",
        "\n",
        "norm_ED = 0\n",
        "acc = 0\n",
        "cer_avg = 0\n",
        "leven_dist = 0\n",
        "\n",
        "for path, gt in zip(sorted(glob.glob('/content/valid/*.png')), valid_df['word'].tolist()):\n",
        "    img = cv2.imread(path, cv2.IMREAD_GRAYSCALE)\n",
        "    pred = pytesseract.image_to_string(img, config=\"--psm 8 -c page_separator=''\")[:-1]\n",
        "    if pred == gt:\n",
        "        acc += 1\n",
        "\n",
        "    if len(gt) == 0 or len(pred) == 0:\n",
        "        norm_ED += 0\n",
        "    elif len(gt) > len(pred):\n",
        "        norm_ED += 1 - edit_distance(pred, gt) / len(gt)\n",
        "    else:\n",
        "        norm_ED += 1 - edit_distance(pred, gt) / len(pred)\n",
        "\n",
        "    leven_dist += leven.distance(gt, pred)\n",
        "    cer_avg += cer(gt, pred)"
      ],
      "execution_count": null,
      "outputs": []
    },
    {
      "cell_type": "code",
      "metadata": {
        "colab": {
          "base_uri": "https://localhost:8080/"
        },
        "id": "ohA2RUo9y3bH",
        "outputId": "2a3bfd27-b8ff-46be-b20a-f7cb8b6fd559"
      },
      "source": [
        "print('Accuracy:', acc/ len(valid_df['word']))\n",
        "print('Norm-ED:', norm_ED / len(valid_df['word']))\n",
        "print('Levenshtein', leven_dist / len(valid_df['word']))\n",
        "print('CER', cer_avg / len(valid_df['word']))"
      ],
      "execution_count": 66,
      "outputs": [
        {
          "output_type": "stream",
          "name": "stdout",
          "text": [
            "Accuracy: 0.05313222619297877\n",
            "Norm-ED: 0.28540997010960534\n",
            "Levenshtein 3.4093441244481815\n",
            "CER 0.8632694297504059\n"
          ]
        }
      ]
    },
    {
      "cell_type": "markdown",
      "metadata": {
        "id": "fnlMZgTTXUAJ"
      },
      "source": [
        "#Demo"
      ]
    },
    {
      "cell_type": "markdown",
      "metadata": {
        "id": "CiC7P5k-jMoU"
      },
      "source": [
        "## PyTorch demo"
      ]
    },
    {
      "cell_type": "code",
      "metadata": {
        "id": "VLJnTA9_eh3j"
      },
      "source": [
        "demo_files = [84077, 91451, 81969] \n",
        "demo_files = [a - 78385 for a in demo_files]\n",
        "demo_df = valid_df.iloc[demo_files]"
      ],
      "execution_count": 25,
      "outputs": []
    },
    {
      "cell_type": "code",
      "metadata": {
        "id": "2_1dHXdCXd3w"
      },
      "source": [
        "# preprocess for valid\n",
        "for (image_name, word) in zip(demo_df['file'], demo_df['word']):\n",
        "    split_line = image_name.split('-')\n",
        "    image_dir = '/content/words/' + split_line[0] + '/' + split_line[0] + '-' + split_line[1] + '/' + image_name\n",
        "    save_dir = '/content/demo/' + image_name\n",
        "    txt_line = word\n",
        "    txt_dir = '/content/demo/' + image_name[:-3] + 'txt'\n",
        "    preprocess_and_save(os.path.normpath(image_dir), os.path.normpath(save_dir), txt_line, txt_dir)"
      ],
      "execution_count": 26,
      "outputs": []
    },
    {
      "cell_type": "code",
      "metadata": {
        "id": "s-E716WnhfrI"
      },
      "source": [
        "output = !CUDA_VISIBLE_DEVICES=0 python3 /content/deep-text-recognition-benchmark/demo.py \\\n",
        "--Transformation None --FeatureExtraction ResNet --SequenceModeling BiLSTM --Prediction CTC \\\n",
        "--image_folder /content/demo \\\n",
        "--saved_model /content/saved_models/None-ResNet-BiLSTM-CTC-Seed1111/best_accuracy.pth --workers 1"
      ],
      "execution_count": 130,
      "outputs": []
    },
    {
      "cell_type": "code",
      "metadata": {
        "id": "7CFKA3zhWv-n"
      },
      "source": [
        "from IPython.core.display import display, HTML\n",
        "from PIL import Image\n",
        "import base64\n",
        "import io\n",
        "import pandas as pd\n",
        "\n",
        "data = pd.DataFrame()\n",
        "fig = plt.figure(figsize=(15, 13))\n",
        "ax = []\n",
        "for ind, row in enumerate(output[output.index('image_path               \\tpredicted_labels         \\tconfidence score')+2:]):\n",
        "    row = row.split('\\t')\n",
        "    filename = row[0].strip()\n",
        "    with open(filename[:-3] + 'txt', 'r') as f:\n",
        "        word = f.read()\n",
        "    label = row[1].strip()\n",
        "    conf = row[2].strip()\n",
        "    img = Image.open(filename)\n",
        "    ax.append(fig.add_subplot(1, 3, ind+1))\n",
        "    ax[-1].set_title(f\"True word is: {word}\")\n",
        "    ax[-1].set_xlabel(f\"Predicted word is: {label}\")\n",
        "    plt.imshow(img, cmap='gray')\n",
        "\n",
        "    img_buffer = io.BytesIO()\n",
        "    img.save(img_buffer, format=\"PNG\")\n",
        "    imgStr = base64.b64encode(img_buffer.getvalue()).decode(\"utf-8\") \n",
        "\n",
        "    data.loc[ind, 'img'] = '<img src=\"data:image/png;base64,{0:s}\">'.format(imgStr)\n",
        "    data.loc[ind, 'id'] = filename\n",
        "    data.loc[ind, 'label'] = label\n",
        "    data.loc[ind, 'true word'] = word\n",
        "    data.loc[ind, 'conf'] = conf\n",
        "plt.show()\n",
        "\n",
        "html_all = data.to_html(escape=False)\n",
        "display(HTML(html_all))"
      ],
      "execution_count": null,
      "outputs": []
    },
    {
      "cell_type": "markdown",
      "metadata": {
        "id": "YegX7PNijJsE"
      },
      "source": [
        "## Tesseract"
      ]
    },
    {
      "cell_type": "code",
      "metadata": {
        "colab": {
          "base_uri": "https://localhost:8080/",
          "height": 222
        },
        "id": "FenUYf-ujK-A",
        "outputId": "9a9c2e06-0dda-4fa4-d707-ef9cf658458c"
      },
      "source": [
        "fig = plt.figure(figsize=(15, 13))\n",
        "ax = []\n",
        "\n",
        "for ind, path in enumerate(sorted(glob.glob('/content/demo/*.png'))):\n",
        "    img = Image.open(path)\n",
        "    with open(path[:-3] + 'txt', 'r') as f:\n",
        "        word = f.read()\n",
        "    pred = pytesseract.image_to_string(img, config=\"--oem 1 --psm 8 --lang eng -c page_separator=''\")[:-1]\n",
        "    ax.append(fig.add_subplot(1, 3, ind+1))\n",
        "    ax[-1].set_title(f\"True word is: {word}\")\n",
        "    ax[-1].set_xlabel(f\"Predicted word is: {pred}\")\n",
        "    plt.imshow(img, cmap='gray')\n",
        "\n",
        "plt.show()"
      ],
      "execution_count": 34,
      "outputs": [
        {
          "output_type": "display_data",
          "data": {
            "image/png": "[encoded data removed]",
            "text/plain": [
              "<Figure size 1080x936 with 3 Axes>"
            ]
          },
          "metadata": {
            "needs_background": "light"
          }
        }
      ]
    }
  ]
}